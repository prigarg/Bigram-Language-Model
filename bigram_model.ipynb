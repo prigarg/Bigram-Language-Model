{
 "cells": [
  {
   "cell_type": "code",
   "execution_count": 1,
   "metadata": {},
   "outputs": [],
   "source": [
    "import re\n",
    "from pathlib import Path\n",
    "import string\n",
    "from functools import reduce\n",
    "from math import log\n",
    "import itertools"
   ]
  },
  {
   "cell_type": "code",
   "execution_count": 2,
   "metadata": {},
   "outputs": [],
   "source": [
    "# Enter smoothing or no smoothing.\n",
    "smoothing = 1\n",
    "filename = \"train_corpus.txt\""
   ]
  },
  {
   "cell_type": "code",
   "execution_count": 3,
   "metadata": {},
   "outputs": [],
   "source": [
    "# Loads file\n",
    "# input - filename.txt \n",
    "# returns a list of sentences seperated by newline in the main corpus/text. \n",
    "def load_file(filename):\n",
    "    with open(filename) as f:\n",
    "        lines = [line.rstrip() for line in f]\n",
    "    print(\"No of sentences in Corpus: \"+str(len(lines)))\n",
    "    return lines"
   ]
  },
  {
   "cell_type": "code",
   "execution_count": 4,
   "metadata": {},
   "outputs": [],
   "source": [
    "# Tokenizes the sentences meaning split the sentences into words seperated by the \"white sapce\".\n",
    "# input - List of sentences\n",
    "# returns a list of lists of each sentence being tokenized.\n",
    "def tokenize_sentence(lines):\n",
    "    lines = [i.strip(\"''\").split(\" \") for i in lines] \n",
    "    print(\"No of sentences in Corpus: \"+str(len(lines)))\n",
    "    return lines"
   ]
  },
  {
   "cell_type": "code",
   "execution_count": 5,
   "metadata": {},
   "outputs": [],
   "source": [
    "# Prepare the data for training the bigram model.\n",
    "# remove punctuations -print(string.punctuation) ---- !\"#$%&'()*+,-./:;<=>?@[\\]^_`{|}~ ----\n",
    "# remove empty strings.\n",
    "# lower case all the words\n",
    "# add <s> at the beginning and </s> at the end of every sentence in the corpus.\n",
    "# input - list of lists of words obtained from \"tokenize_sentence\" function.\n",
    "# returns - list of lists\n",
    "def prep_data(lines):\n",
    "    for i in range(len(lines)):\n",
    "        lines[i] = [''.join(c for c in s if c not in string.punctuation) for s in lines[i]] # remove punctuations\n",
    "        lines[i] = [s for s in lines[i] if s] # removes empty strings\n",
    "        lines[i] = [word.lower() for word in lines[i]] # lower case\n",
    "        lines[i] += ['</s>'] # Append </s> at the end of each sentence in the corpus\n",
    "        lines[i].insert(0, '<s>')  # Append <s> at the beginning of each sentence in the corpus\n",
    "    print(\"No of sentences in Corpus: \"+str(len(lines)))\n",
    "    return lines"
   ]
  },
  {
   "cell_type": "code",
   "execution_count": 6,
   "metadata": {},
   "outputs": [
    {
     "name": "stdout",
     "output_type": "stream",
     "text": [
      "No of sentences in Corpus: 10059\n",
      "No of sentences in Corpus: 10059\n"
     ]
    }
   ],
   "source": [
    "dataset = load_file(filename)\n",
    "dataset = tokenize_sentence(dataset)\n",
    "dataset = prep_data(dataset)"
   ]
  },
  {
   "cell_type": "code",
   "execution_count": 7,
   "metadata": {},
   "outputs": [],
   "source": [
    "# Creates the vocabulary file of the dataset.\n",
    "def vocabulary(dataset):\n",
    "    dataset_vocab = set(itertools.chain.from_iterable(dataset))\n",
    "    # remove <s> and </s> from the vocabulary of the dataset\n",
    "    dataset_vocab.remove('<s>')\n",
    "    dataset_vocab.remove('</s>')\n",
    "    dataset_vocab = list(dataset_vocab)\n",
    "    dataset_vocab.append('<s>')\n",
    "    dataset_vocab.append('</s>')\n",
    "    return dataset_vocab\n",
    "\n",
    "dataset_vocab = vocabulary(dataset)"
   ]
  },
  {
   "cell_type": "code",
   "execution_count": 12,
   "metadata": {},
   "outputs": [
    {
     "data": {
      "text/plain": [
       "17141"
      ]
     },
     "execution_count": 12,
     "metadata": {},
     "output_type": "execute_result"
    }
   ],
   "source": [
    "len(dataset_vocab)"
   ]
  },
  {
   "cell_type": "code",
   "execution_count": 22,
   "metadata": {},
   "outputs": [],
   "source": [
    "# Counts the no. of times a word repeats (frequency of each word) in the corpus.\n",
    "# input - list of lists of words obtained from \"prep_data\"\n",
    "# returns - a dictionary defined as {word:frequency} for words of the corpus including <s> and </s>.\n",
    "def freq_of_unique_words(lines):\n",
    "    bag_of_words = list(itertools.chain.from_iterable(lines)) # change the nested list to one single list\n",
    "    corpus_word_count = 0 # No of words in the corpus excluding <s> and </s>.\n",
    "    #count the no. of times a word repeats in the corpus\n",
    "    count = {}\n",
    "    for word in bag_of_words:\n",
    "        if word in count :\n",
    "            count[word] += 1\n",
    "        else:\n",
    "            count[word] = 1\n",
    "        if word != '<s>' and word != '</s>':\n",
    "             corpus_word_count +=1\n",
    "            \n",
    "    unique_word_count = len(count) - 2 # number of unique words in the corpus excluding <s> and </s>\n",
    "    \n",
    "    #print(\"!!! IT IS EXCLUDING <s> AND </s> !!!\")\n",
    "    print(\"No of unique words in corpus : \"+ str(unique_word_count))\n",
    "    print(\"No of words in corpus: \"+ str(corpus_word_count))\n",
    "    \n",
    "    return count"
   ]
  },
  {
   "cell_type": "code",
   "execution_count": 23,
   "metadata": {},
   "outputs": [
    {
     "name": "stdout",
     "output_type": "stream",
     "text": [
      "No of unique words in corpus : 17139\n",
      "No of words in corpus: 218619\n"
     ]
    }
   ],
   "source": [
    "unique_word_frequency = freq_of_unique_words(dataset)\n",
    "#len(unique_word_frequency)"
   ]
  },
  {
   "cell_type": "code",
   "execution_count": 10,
   "metadata": {},
   "outputs": [],
   "source": [
    "# Computes the bigram frequncies\n",
    "# Bigram frequncies means the number of times a word appears after a given word in the corpus.\n",
    "# inputs:\n",
    "# lines - list of lists obtained from \"prep_data\".\n",
    "# count - dictionary obtained from \"freq_of_unique_words\".\n",
    "# returns - dictionary of bigram frequencies {(word|given word): count(word|given word)} --- count(word|given word)~int.\n",
    "def compute_bigram_frequencies(lines):\n",
    "    bigram_frequencies = dict() \n",
    "    #unique_bigrams = set()\n",
    "    for sentence in lines:\n",
    "        given_word = None\n",
    "        for word in sentence:\n",
    "            if given_word != None:\n",
    "                bigram_frequencies[(given_word, word)] = bigram_frequencies.get((given_word, word),0) + 1\n",
    "#                 if(previous_word!='<s>' and word!='</s>'):\n",
    "#                     unique_bigrams.add((previous_word,word))\n",
    "            given_word = word\n",
    "    #The number of bigram_frquencies in the corpus       \n",
    "    #print(len(bigram_frequencies))\n",
    "    return bigram_frequencies"
   ]
  },
  {
   "cell_type": "code",
   "execution_count": 11,
   "metadata": {},
   "outputs": [],
   "source": [
    "bigram_frequencies = compute_bigram_frequencies(dataset)\n",
    "#print(bigram_frequencies)\n",
    "bigram_unique_word_count = len(unique_word_frequency)\n",
    "# print(\"\\n\"+\"No of words in bigram: \"+str(bigram_unique_word_count))"
   ]
  },
  {
   "cell_type": "code",
   "execution_count": 12,
   "metadata": {},
   "outputs": [],
   "source": [
    "# Calculating bigram probability\n",
    "# bigram probability means P(word|given word) = count(word|given word)/ count(given word).\n",
    "# if count(word|given word) or count(given word) is 0 then probability is 0.\n",
    "# input bigram_frquencies and count obtained from \"freq_of_unique_words\".\n",
    "# returns dictionary of bigram probabilities {(word|given word): probabilty} --- probability is a float value.\n",
    "def compute_bigram_probabilities(bigram_frequencies,count):\n",
    "    bigram_probabilities = dict() \n",
    "    for key in bigram_frequencies:\n",
    "        numerator = bigram_frequencies.get(key)\n",
    "        denominator = count.get(key[0]) # count.get(key[0]) will get the frequency of \"given word\" in the corpus.\n",
    "        if (numerator ==0 or denominator==0):\n",
    "            bigram_probabilities[key] = 0\n",
    "        else:\n",
    "            bigram_probabilities[key] = float(numerator)/float(denominator)\n",
    "    return bigram_probabilities"
   ]
  },
  {
   "cell_type": "code",
   "execution_count": 13,
   "metadata": {
    "scrolled": true
   },
   "outputs": [],
   "source": [
    "bigram_probabilities = compute_bigram_probabilities(bigram_frequencies,unique_word_frequency)\n",
    "#bigram_probabilities"
   ]
  },
  {
   "cell_type": "code",
   "execution_count": 14,
   "metadata": {},
   "outputs": [],
   "source": [
    "# Bigram frequncies of the test sentence computed using the bigram frequencies of the training data.\n",
    "# add-one smoothing if 1, no smoothing if 0 ----- smoothing\n",
    "def compute_bigram_count_test_sentence(given_word,word,smoothing):\n",
    "    if smoothing==0:\n",
    "        return 0 if bigram_frequencies.get((given_word,word))==None else bigram_frequencies.get((given_word,word))\n",
    "    elif smoothing == 1:\n",
    "        return 1 if bigram_frequencies.get((given_word,word))==None else bigram_frequencies.get((given_word,word))+1"
   ]
  },
  {
   "cell_type": "code",
   "execution_count": 15,
   "metadata": {},
   "outputs": [],
   "source": [
    "# A table showing the bigram counts for test sentence.\n",
    "def print_bigram_freq_test_sentence(test_sentence_vocab,smoothing):\n",
    "    print(\"A table showing the bigram counts for test sentence.\"+\"\\nsmoothing =\"+str(smoothing))\n",
    "    print(\"\\t\\t\\t\", end=\"\")\n",
    "    for word in test_sentence_vocab:\n",
    "        if word != '<s>':\n",
    "            print(word, end=\"\\t\\t\")\n",
    "    print(\"\")\n",
    "    for given_word in test_sentence_vocab:\n",
    "        if given_word != '</s>':\n",
    "            if(smoothing==1):\n",
    "                print(unique_word_frequency.get(given_word)+bigram_unique_word_count, end =\"\\t\")\n",
    "            elif(smoothing==0):\n",
    "                print(unique_word_frequency.get(given_word), end =\"\\t\")\n",
    "            print(given_word, end=\"\\t\\t\")\n",
    "            for word in test_sentence_vocab:\n",
    "                if word !='<s>':\n",
    "                    print(\"{0:}\".format(compute_bigram_count_test_sentence(given_word,word,smoothing)), end=\"\\t\\t\")\n",
    "            print(\"\")\n",
    "    print(\"\")"
   ]
  },
  {
   "cell_type": "code",
   "execution_count": 16,
   "metadata": {},
   "outputs": [],
   "source": [
    "# Bigram probabilities of the test sentence computed using the bigram probabilities of the training data.\n",
    "# add-one smoothing if 1, no smoothing if 0 ---- smoothing\n",
    "def compute_bigram_prob_test_sentence(given_word,word,smoothing):\n",
    "    bigram_freq = 0 if bigram_frequencies.get((given_word,word))==None else bigram_frequencies.get((given_word,word))\n",
    "    uni_freq = 0 if unique_word_frequency.get((given_word))==None else unique_word_frequency.get((given_word))\n",
    "    if smoothing==0:\n",
    "        return 0 if bigram_probabilities.get((given_word,word))==None else bigram_probabilities.get((given_word,word))\n",
    "    elif smoothing == 1:\n",
    "        numerator = bigram_freq+1\n",
    "        denominator = uni_freq+bigram_unique_word_count\n",
    "        return 0.0 if numerator == 0 or denominator == 0 else float(numerator) / float(denominator)"
   ]
  },
  {
   "cell_type": "code",
   "execution_count": 17,
   "metadata": {},
   "outputs": [],
   "source": [
    "# A table showing the bigram probabilities for test sentence.\n",
    "def print_bigram_probabilities_test_sentence(test_sentence_vocab,smoothing):\n",
    "    print(\"A table showing the bigram probabilities for test sentence\"+\"\\nsmoothing =\"+str(smoothing))\n",
    "    print(\"\\t\\t\", end=\"\")\n",
    "    for word in test_sentence_vocab:\n",
    "        if word != '<s>':\n",
    "            print(word, end=\"\\t\\t\")\n",
    "    print(\"\")\n",
    "    for given_word in test_sentence_vocab:\n",
    "        if given_word != '</s>':\n",
    "            print(given_word, end=\"\\t\\t\")\n",
    "            for word in test_sentence_vocab:\n",
    "                if word !='<s>':\n",
    "                    print(\"{0:.5f}\".format(compute_bigram_prob_test_sentence(given_word,word,smoothing)), end=\"\\t\\t\")\n",
    "            print(\"\")\n",
    "    print(\"\")"
   ]
  },
  {
   "cell_type": "code",
   "execution_count": 18,
   "metadata": {},
   "outputs": [],
   "source": [
    "# Print the probability of the test sentence\n",
    "# for add-one smoothing if 1, no smoothing if 0\n",
    "def compute_prob_test_sentence(sentence,smoothing):\n",
    "    test_sent_prob = 0\n",
    "    \n",
    "    if(smoothing == 0):\n",
    "        given_word = None\n",
    "        for word in sentence:\n",
    "            if given_word!=None:\n",
    "                if bigram_probabilities.get((given_word,word))==0 or bigram_probabilities.get((given_word,word))== None:\n",
    "                    return 0\n",
    "                else:\n",
    "                    test_sent_prob+=log((bigram_probabilities.get((given_word,word),0)),10)\n",
    "            given_word = word\n",
    "            \n",
    "    elif(smoothing ==1):\n",
    "        given_word = None\n",
    "        for word in sentence:\n",
    "            if given_word!=None:\n",
    "                bigram_freq = 0 if bigram_frequencies.get((given_word,word))==None else bigram_frequencies.get((given_word,word))\n",
    "                uni_freq = 0 if unique_word_frequency.get((given_word))==None else unique_word_frequency.get((given_word))\n",
    "                numerator = bigram_freq+1\n",
    "                denominator = uni_freq+bigram_unique_word_count\n",
    "                probability = 0 if numerator==0 or denominator ==0 else float(numerator)/float(denominator)\n",
    "                if(probability==0):\n",
    "                    return 0\n",
    "                test_sent_prob +=log(probability,10)\n",
    "            given_word = word\n",
    "            \n",
    "    return 10**test_sent_prob"
   ]
  },
  {
   "cell_type": "code",
   "execution_count": 19,
   "metadata": {},
   "outputs": [],
   "source": [
    "# Test sentence here\n",
    "test_sentences = [['upon this the captain started , and eagerly desired to know more .'],['thus , because no man can follow another into these halls .']]"
   ]
  },
  {
   "cell_type": "code",
   "execution_count": 20,
   "metadata": {},
   "outputs": [
    {
     "name": "stdout",
     "output_type": "stream",
     "text": [
      "!!!!!!!!!!The test Sentence is!!!!!!!!!!\n",
      "['upon this the captain started , and eagerly desired to know more .']\n",
      "A table showing the bigram counts for test sentence.\n",
      "smoothing =1\n",
      "\t\t\tand\t\teagerly\t\tthis\t\tto\t\tdesired\t\tupon\t\tthe\t\tstarted\t\tcaptain\t\tknow\t\tmore\t\t</s>\t\t\n",
      "23571\tand\t\t1\t\t3\t\t45\t\t31\t\t1\t\t3\t\t371\t\t2\t\t6\t\t2\t\t46\t\t1\t\t\n",
      "17149\teagerly\t\t2\t\t1\t\t1\t\t1\t\t2\t\t1\t\t1\t\t1\t\t1\t\t1\t\t1\t\t1\t\t\n",
      "18535\tthis\t\t10\t\t1\t\t2\t\t8\t\t1\t\t1\t\t25\t\t1\t\t2\t\t1\t\t1\t\t26\t\t\n",
      "21766\tto\t\t24\t\t1\t\t51\t\t2\t\t1\t\t2\t\t730\t\t1\t\t3\t\t16\t\t2\t\t27\t\t\n",
      "17152\tdesired\t\t1\t\t1\t\t1\t\t3\t\t1\t\t1\t\t1\t\t1\t\t1\t\t1\t\t1\t\t1\t\t\n",
      "17707\tupon\t\t1\t\t1\t\t24\t\t1\t\t1\t\t1\t\t221\t\t1\t\t2\t\t1\t\t1\t\t5\t\t\n",
      "31572\tthe\t\t1\t\t1\t\t1\t\t1\t\t4\t\t1\t\t1\t\t1\t\t98\t\t1\t\t51\t\t2\t\t\n",
      "17168\tstarted\t\t2\t\t1\t\t1\t\t6\t\t1\t\t1\t\t2\t\t1\t\t1\t\t1\t\t1\t\t1\t\t\n",
      "17470\tcaptain\t\t12\t\t1\t\t3\t\t9\t\t1\t\t2\t\t4\t\t2\t\t1\t\t1\t\t1\t\t11\t\t\n",
      "17293\tknow\t\t3\t\t1\t\t1\t\t2\t\t1\t\t1\t\t9\t\t1\t\t2\t\t1\t\t2\t\t8\t\t\n",
      "17649\tmore\t\t25\t\t1\t\t1\t\t12\t\t1\t\t3\t\t15\t\t2\t\t1\t\t1\t\t1\t\t26\t\t\n",
      "27200\t<s>\t\t409\t\t1\t\t116\t\t61\t\t1\t\t27\t\t630\t\t2\t\t23\t\t3\t\t8\t\t27\t\t\n",
      "\n",
      "A table showing the bigram probabilities for test sentence\n",
      "smoothing =1\n",
      "\t\tand\t\teagerly\t\tthis\t\tto\t\tdesired\t\tupon\t\tthe\t\tstarted\t\tcaptain\t\tknow\t\tmore\t\t</s>\t\t\n",
      "and\t\t0.00004\t\t0.00013\t\t0.00191\t\t0.00132\t\t0.00004\t\t0.00013\t\t0.01574\t\t0.00008\t\t0.00025\t\t0.00008\t\t0.00195\t\t0.00004\t\t\n",
      "eagerly\t\t0.00012\t\t0.00006\t\t0.00006\t\t0.00006\t\t0.00012\t\t0.00006\t\t0.00006\t\t0.00006\t\t0.00006\t\t0.00006\t\t0.00006\t\t0.00006\t\t\n",
      "this\t\t0.00054\t\t0.00005\t\t0.00011\t\t0.00043\t\t0.00005\t\t0.00005\t\t0.00135\t\t0.00005\t\t0.00011\t\t0.00005\t\t0.00005\t\t0.00140\t\t\n",
      "to\t\t0.00110\t\t0.00005\t\t0.00234\t\t0.00009\t\t0.00005\t\t0.00009\t\t0.03354\t\t0.00005\t\t0.00014\t\t0.00074\t\t0.00009\t\t0.00124\t\t\n",
      "desired\t\t0.00006\t\t0.00006\t\t0.00006\t\t0.00017\t\t0.00006\t\t0.00006\t\t0.00006\t\t0.00006\t\t0.00006\t\t0.00006\t\t0.00006\t\t0.00006\t\t\n",
      "upon\t\t0.00006\t\t0.00006\t\t0.00136\t\t0.00006\t\t0.00006\t\t0.00006\t\t0.01248\t\t0.00006\t\t0.00011\t\t0.00006\t\t0.00006\t\t0.00028\t\t\n",
      "the\t\t0.00003\t\t0.00003\t\t0.00003\t\t0.00003\t\t0.00013\t\t0.00003\t\t0.00003\t\t0.00003\t\t0.00310\t\t0.00003\t\t0.00162\t\t0.00006\t\t\n",
      "started\t\t0.00012\t\t0.00006\t\t0.00006\t\t0.00035\t\t0.00006\t\t0.00006\t\t0.00012\t\t0.00006\t\t0.00006\t\t0.00006\t\t0.00006\t\t0.00006\t\t\n",
      "captain\t\t0.00069\t\t0.00006\t\t0.00017\t\t0.00052\t\t0.00006\t\t0.00011\t\t0.00023\t\t0.00011\t\t0.00006\t\t0.00006\t\t0.00006\t\t0.00063\t\t\n",
      "know\t\t0.00017\t\t0.00006\t\t0.00006\t\t0.00012\t\t0.00006\t\t0.00006\t\t0.00052\t\t0.00006\t\t0.00012\t\t0.00006\t\t0.00012\t\t0.00046\t\t\n",
      "more\t\t0.00142\t\t0.00006\t\t0.00006\t\t0.00068\t\t0.00006\t\t0.00017\t\t0.00085\t\t0.00011\t\t0.00006\t\t0.00006\t\t0.00006\t\t0.00147\t\t\n",
      "<s>\t\t0.01504\t\t0.00004\t\t0.00426\t\t0.00224\t\t0.00004\t\t0.00099\t\t0.02316\t\t0.00007\t\t0.00085\t\t0.00011\t\t0.00029\t\t0.00099\t\t\n",
      "\n",
      "The probability of the sentence under the trained model\n",
      "smoothing =1\n",
      "1.01571679763017e-23\n",
      "!!!!!!!!!!The test Sentence is!!!!!!!!!!\n",
      "['thus , because no man can follow another into these halls .']\n",
      "A table showing the bigram counts for test sentence.\n",
      "smoothing =1\n",
      "\t\t\thalls\t\tcan\t\tanother\t\tno\t\tthese\t\tthus\t\tbecause\t\tman\t\tinto\t\tfollow\t\t</s>\t\t\n",
      "17144\thalls\t\t1\t\t1\t\t1\t\t1\t\t1\t\t1\t\t1\t\t1\t\t1\t\t1\t\t2\t\t\n",
      "17377\tcan\t\t1\t\t1\t\t1\t\t1\t\t1\t\t1\t\t1\t\t1\t\t1\t\t3\t\t10\t\t\n",
      "17256\tanother\t\t1\t\t1\t\t1\t\t1\t\t1\t\t1\t\t1\t\t1\t\t2\t\t1\t\t4\t\t\n",
      "17727\tno\t\t1\t\t1\t\t1\t\t19\t\t1\t\t1\t\t2\t\t10\t\t1\t\t1\t\t18\t\t\n",
      "17544\tthese\t\t2\t\t2\t\t1\t\t1\t\t1\t\t1\t\t1\t\t1\t\t1\t\t1\t\t3\t\t\n",
      "17274\tthus\t\t1\t\t1\t\t1\t\t1\t\t1\t\t1\t\t2\t\t1\t\t1\t\t1\t\t2\t\t\n",
      "17233\tbecause\t\t1\t\t1\t\t1\t\t3\t\t2\t\t1\t\t1\t\t1\t\t1\t\t1\t\t1\t\t\n",
      "17668\tman\t\t1\t\t6\t\t1\t\t1\t\t3\t\t2\t\t1\t\t2\t\t3\t\t1\t\t63\t\t\n",
      "17664\tinto\t\t1\t\t1\t\t1\t\t1\t\t4\t\t1\t\t1\t\t1\t\t1\t\t1\t\t2\t\t\n",
      "17161\tfollow\t\t1\t\t1\t\t2\t\t1\t\t1\t\t1\t\t1\t\t1\t\t1\t\t1\t\t6\t\t\n",
      "27200\t<s>\t\t1\t\t17\t\t8\t\t102\t\t22\t\t27\t\t19\t\t12\t\t3\t\t1\t\t27\t\t\n",
      "\n",
      "A table showing the bigram probabilities for test sentence\n",
      "smoothing =1\n",
      "\t\thalls\t\tcan\t\tanother\t\tno\t\tthese\t\tthus\t\tbecause\t\tman\t\tinto\t\tfollow\t\t</s>\t\t\n",
      "halls\t\t0.00006\t\t0.00006\t\t0.00006\t\t0.00006\t\t0.00006\t\t0.00006\t\t0.00006\t\t0.00006\t\t0.00006\t\t0.00006\t\t0.00012\t\t\n",
      "can\t\t0.00006\t\t0.00006\t\t0.00006\t\t0.00006\t\t0.00006\t\t0.00006\t\t0.00006\t\t0.00006\t\t0.00006\t\t0.00017\t\t0.00058\t\t\n",
      "another\t\t0.00006\t\t0.00006\t\t0.00006\t\t0.00006\t\t0.00006\t\t0.00006\t\t0.00006\t\t0.00006\t\t0.00012\t\t0.00006\t\t0.00023\t\t\n",
      "no\t\t0.00006\t\t0.00006\t\t0.00006\t\t0.00107\t\t0.00006\t\t0.00006\t\t0.00011\t\t0.00056\t\t0.00006\t\t0.00006\t\t0.00102\t\t\n",
      "these\t\t0.00011\t\t0.00011\t\t0.00006\t\t0.00006\t\t0.00006\t\t0.00006\t\t0.00006\t\t0.00006\t\t0.00006\t\t0.00006\t\t0.00017\t\t\n",
      "thus\t\t0.00006\t\t0.00006\t\t0.00006\t\t0.00006\t\t0.00006\t\t0.00006\t\t0.00012\t\t0.00006\t\t0.00006\t\t0.00006\t\t0.00012\t\t\n",
      "because\t\t0.00006\t\t0.00006\t\t0.00006\t\t0.00017\t\t0.00012\t\t0.00006\t\t0.00006\t\t0.00006\t\t0.00006\t\t0.00006\t\t0.00006\t\t\n",
      "man\t\t0.00006\t\t0.00034\t\t0.00006\t\t0.00006\t\t0.00017\t\t0.00011\t\t0.00006\t\t0.00011\t\t0.00017\t\t0.00006\t\t0.00357\t\t\n",
      "into\t\t0.00006\t\t0.00006\t\t0.00006\t\t0.00006\t\t0.00023\t\t0.00006\t\t0.00006\t\t0.00006\t\t0.00006\t\t0.00006\t\t0.00011\t\t\n",
      "follow\t\t0.00006\t\t0.00006\t\t0.00012\t\t0.00006\t\t0.00006\t\t0.00006\t\t0.00006\t\t0.00006\t\t0.00006\t\t0.00006\t\t0.00035\t\t\n",
      "<s>\t\t0.00004\t\t0.00063\t\t0.00029\t\t0.00375\t\t0.00081\t\t0.00099\t\t0.00070\t\t0.00044\t\t0.00011\t\t0.00004\t\t0.00099\t\t\n",
      "\n",
      "The probability of the sentence under the trained model\n",
      "smoothing =1\n",
      "1.0762093761487005e-21\n"
     ]
    }
   ],
   "source": [
    "for i in range (len(test_sentences)):\n",
    "    test_sentence = test_sentences[i]\n",
    "    print(\"!!!!!!!!!!The test Sentence is!!!!!!!!!!\")\n",
    "    print(test_sentence)\n",
    "    test_sentence = tokenize_sentence(test_sentence)\n",
    "    test_sentence = prep_data(test_sentence)\n",
    "\n",
    "    # Vocabulary of test sentence\n",
    "    test_sentence_vocab = vocabulary(test_sentence)\n",
    "\n",
    "    test_sentence = list(itertools.chain.from_iterable(test_sentence))\n",
    "    #test_sentence\n",
    "\n",
    "    # A table showing the bigram counts for test sentence.\n",
    "    print_bigram_freq_test_sentence(test_sentence_vocab,smoothing)\n",
    "\n",
    "    # A table showing the bigram probabilities for test sentence.\n",
    "    print_bigram_probabilities_test_sentence(test_sentence_vocab,smoothing)\n",
    "\n",
    "    # The probability of the sentence under the trained model\n",
    "    print(\"The probability of the sentence under the trained model\"+\"\\nsmoothing =\"+str(smoothing))\n",
    "    print(compute_prob_test_sentence(test_sentence,0))"
   ]
  }
 ],
 "metadata": {
  "kernelspec": {
   "display_name": "Python 3",
   "language": "python",
   "name": "python3"
  },
  "language_info": {
   "codemirror_mode": {
    "name": "ipython",
    "version": 3
   },
   "file_extension": ".py",
   "mimetype": "text/x-python",
   "name": "python",
   "nbconvert_exporter": "python",
   "pygments_lexer": "ipython3",
   "version": "3.8.3"
  }
 },
 "nbformat": 4,
 "nbformat_minor": 4
}
